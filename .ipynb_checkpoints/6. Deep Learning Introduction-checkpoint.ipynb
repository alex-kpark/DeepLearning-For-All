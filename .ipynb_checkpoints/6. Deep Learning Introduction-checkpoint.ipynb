{
 "cells": [
  {
   "cell_type": "markdown",
   "metadata": {},
   "source": [
    "# 딥러닝의 시작\n",
    "\n",
    "### XOR 문제의 등장\n",
    "\n",
    "기존의 AND, OR 문제는 Linear한 선을 그어서 바로 분류할 수 있었으나, XOR문제는 **Linear한 Seperation으로 할 수 없었음**\n",
    "\n",
    "![xor](img/xor.png)\n",
    "\n",
    "이 XOR 문제가 해결되기 어렵다는 것이 증명되자 연구가 잠시 멈추었었음\n",
    "\n",
    "--- \n",
    "\n",
    "### BackPropagation의 등장\n",
    "\n",
    "여러 w1 * b, w2 * b .. 등을 쭉 forward 한 방향으로 예측값을 내어서, 그 값과 동일하면 그대로 진행하고, 틀린 값을 내었으면 다시 backward한 방향으로 에러값을 바꾸어서 w1, w2 .. 의 값을 조정함\n",
    "\n",
    "![back](img/back.png)\n",
    "\n",
    "그러나, BackPropagation 알고리즘은 몇 개 정도의 Layer에서는 잘 동작하는데, 10여개가 넘어가는 Layer에서 에러를 앞쪽으로 보내면 잘 전달되지 않는 문제가 발생했다. 즉, Layer가 늘어나면 늘어날수록 에러가 잘 전달되지 않는 문제가 발생했다.\n",
    "\n",
    "---\n",
    "\n",
    "### Convolutional Neural Network (CNN)\n",
    "\n",
    "고양이의 눈이 그림의 형태에 따라서 activate 되는 신경계가 달라지는 것에 착안, 보는 이미지에 따라서 달라지는 신경망이 다르다고 예측한 것.\n",
    "\n",
    "Input의 부분부분을 잘라서 학습시키고 나중에 합치는 방식의 신경망을 만들어냄.\n",
    "\n",
    "---\n",
    "\n",
    "### Initialization of weights\n",
    "\n",
    "딥러닝에 들어가는 w1, w2, w3 .. 등 weight 값들에 들어가는 초기값만 잘 넣어주면, 학습이 잘 된다는 것이 증명됨.\n",
    "\n"
   ]
  },
  {
   "cell_type": "code",
   "execution_count": null,
   "metadata": {},
   "outputs": [],
   "source": []
  },
  {
   "cell_type": "markdown",
   "metadata": {},
   "source": [
    "# Tensor 다루기\n",
    "\n",
    "### Rank\n",
    "\n",
    "[]의 개수가 곧 rank의 수\n",
    "\n",
    "\n",
    "### Axis\n",
    "\n",
    "가장 안에 있는 축이 0 Axis, 하나씩 바깥 []으로 나가면서 1, 2, 3.. 으로 증가함\n",
    "\n",
    "\n",
    "### Matmul v. Multiply\n",
    "\n",
    "행렬곱셈을 해줄 때는 무조건 matmul 함수를 써주어야 한다\n",
    "\n",
    "\n",
    "### Broadcasting\n",
    "\n",
    "행렬의 형태가 맞지 않을 때(rank가 다를 때), 서로간의 tensor를 변환시켜주면서 계산할 수 있도록 만들어주는 기능\n"
   ]
  },
  {
   "cell_type": "code",
   "execution_count": 3,
   "metadata": {},
   "outputs": [
    {
     "ename": "ValueError",
     "evalue": "Cannot evaluate tensor using `eval()`: No default session is registered. Use `with sess.as_default()` or pass an explicit session to `eval(session=sess)`",
     "output_type": "error",
     "traceback": [
      "\u001b[1;31m---------------------------------------------------------------------------\u001b[0m",
      "\u001b[1;31mValueError\u001b[0m                                Traceback (most recent call last)",
      "\u001b[1;32m<ipython-input-3-38a4438f61e4>\u001b[0m in \u001b[0;36m<module>\u001b[1;34m\u001b[0m\n\u001b[0;32m      3\u001b[0m t = tf.constant([[1,2],\n\u001b[0;32m      4\u001b[0m                 [3,4]])\n\u001b[1;32m----> 5\u001b[1;33m \u001b[0mtf\u001b[0m\u001b[1;33m.\u001b[0m\u001b[0mshape\u001b[0m\u001b[1;33m(\u001b[0m\u001b[0mt\u001b[0m\u001b[1;33m)\u001b[0m\u001b[1;33m.\u001b[0m\u001b[0meval\u001b[0m\u001b[1;33m(\u001b[0m\u001b[1;33m)\u001b[0m\u001b[1;33m\u001b[0m\u001b[0m\n\u001b[0m\u001b[0;32m      6\u001b[0m \u001b[1;33m\u001b[0m\u001b[0m\n",
      "\u001b[1;32m~\\Anaconda3\\envs\\tensorflow\\lib\\site-packages\\tensorflow\\python\\framework\\ops.py\u001b[0m in \u001b[0;36meval\u001b[1;34m(self, feed_dict, session)\u001b[0m\n\u001b[0;32m    709\u001b[0m \u001b[1;33m\u001b[0m\u001b[0m\n\u001b[0;32m    710\u001b[0m     \"\"\"\n\u001b[1;32m--> 711\u001b[1;33m     \u001b[1;32mreturn\u001b[0m \u001b[0m_eval_using_default_session\u001b[0m\u001b[1;33m(\u001b[0m\u001b[0mself\u001b[0m\u001b[1;33m,\u001b[0m \u001b[0mfeed_dict\u001b[0m\u001b[1;33m,\u001b[0m \u001b[0mself\u001b[0m\u001b[1;33m.\u001b[0m\u001b[0mgraph\u001b[0m\u001b[1;33m,\u001b[0m \u001b[0msession\u001b[0m\u001b[1;33m)\u001b[0m\u001b[1;33m\u001b[0m\u001b[0m\n\u001b[0m\u001b[0;32m    712\u001b[0m \u001b[1;33m\u001b[0m\u001b[0m\n\u001b[0;32m    713\u001b[0m \u001b[1;33m\u001b[0m\u001b[0m\n",
      "\u001b[1;32m~\\Anaconda3\\envs\\tensorflow\\lib\\site-packages\\tensorflow\\python\\framework\\ops.py\u001b[0m in \u001b[0;36m_eval_using_default_session\u001b[1;34m(tensors, feed_dict, graph, session)\u001b[0m\n\u001b[0;32m   5139\u001b[0m     \u001b[0msession\u001b[0m \u001b[1;33m=\u001b[0m \u001b[0mget_default_session\u001b[0m\u001b[1;33m(\u001b[0m\u001b[1;33m)\u001b[0m\u001b[1;33m\u001b[0m\u001b[0m\n\u001b[0;32m   5140\u001b[0m     \u001b[1;32mif\u001b[0m \u001b[0msession\u001b[0m \u001b[1;32mis\u001b[0m \u001b[1;32mNone\u001b[0m\u001b[1;33m:\u001b[0m\u001b[1;33m\u001b[0m\u001b[0m\n\u001b[1;32m-> 5141\u001b[1;33m       raise ValueError(\"Cannot evaluate tensor using `eval()`: No default \"\n\u001b[0m\u001b[0;32m   5142\u001b[0m                        \u001b[1;34m\"session is registered. Use `with \"\u001b[0m\u001b[1;33m\u001b[0m\u001b[0m\n\u001b[0;32m   5143\u001b[0m                        \u001b[1;34m\"sess.as_default()` or pass an explicit session to \"\u001b[0m\u001b[1;33m\u001b[0m\u001b[0m\n",
      "\u001b[1;31mValueError\u001b[0m: Cannot evaluate tensor using `eval()`: No default session is registered. Use `with sess.as_default()` or pass an explicit session to `eval(session=sess)`"
     ]
    }
   ],
   "source": [
    "import tensorflow as tf\n",
    "\n",
    "#Rank 에시\n",
    "t = tf.constant([[1,2],\n",
    "                [3,4]])\n",
    "#tf.shape(t).eval()\n",
    "\n",
    "#BroadCasting 예시\n",
    "\n"
   ]
  },
  {
   "cell_type": "code",
   "execution_count": null,
   "metadata": {},
   "outputs": [],
   "source": []
  }
 ],
 "metadata": {
  "kernelspec": {
   "display_name": "Python [conda env:tensorflow]",
   "language": "python",
   "name": "conda-env-tensorflow-py"
  },
  "language_info": {
   "codemirror_mode": {
    "name": "ipython",
    "version": 3
   },
   "file_extension": ".py",
   "mimetype": "text/x-python",
   "name": "python",
   "nbconvert_exporter": "python",
   "pygments_lexer": "ipython3",
   "version": "3.6.6"
  }
 },
 "nbformat": 4,
 "nbformat_minor": 2
}
