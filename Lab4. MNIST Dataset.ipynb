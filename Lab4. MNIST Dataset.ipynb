{
 "cells": [
  {
   "cell_type": "markdown",
   "metadata": {},
   "source": [
    "# MNIST Data Set\n",
    "\n",
    "**Data 구성**\n",
    "\n",
    "가로 28px, 세로 28px의 2차원 데이터로, 총 28 * 28 = 784개의 픽셀로 구성되어 있다\n",
    "\n",
    "이 784개의 픽셀을 기반으로 숫자가 0, 1 ... 9 까지 y 값으로 라벨링 해주는 문제"
   ]
  },
  {
   "cell_type": "markdown",
   "metadata": {},
   "source": [
    "![mnist](img/mnist.png)"
   ]
  },
  {
   "cell_type": "code",
   "execution_count": 6,
   "metadata": {},
   "outputs": [
    {
     "name": "stdout",
     "output_type": "stream",
     "text": [
      "Extracting MNIST_data/train-images-idx3-ubyte.gz\n",
      "Extracting MNIST_data/train-labels-idx1-ubyte.gz\n",
      "Extracting MNIST_data/t10k-images-idx3-ubyte.gz\n",
      "Extracting MNIST_data/t10k-labels-idx1-ubyte.gz\n",
      "Epoch: 0001 cost = 2.523305537\n",
      "Epoch: 0002 cost = 1.041080734\n",
      "Epoch: 0003 cost = 0.834707453\n",
      "Epoch: 0004 cost = 0.733741879\n",
      "Epoch: 0005 cost = 0.669966032\n",
      "Epoch: 0006 cost = 0.625257254\n",
      "Epoch: 0007 cost = 0.591155982\n",
      "Epoch: 0008 cost = 0.564217835\n",
      "Epoch: 0009 cost = 0.541806322\n",
      "Epoch: 0010 cost = 0.523011580\n",
      "Epoch: 0011 cost = 0.506875606\n",
      "Epoch: 0012 cost = 0.493365890\n",
      "Epoch: 0013 cost = 0.481095225\n",
      "Epoch: 0014 cost = 0.469905317\n",
      "Epoch: 0015 cost = 0.459745440\n",
      "Learning finished\n",
      "Accuracy:  0.8899\n",
      "Label:  [9]\n",
      "Prediction:  [9]\n"
     ]
    },
    {
     "data": {
      "image/png": "[encoded data removed]",
      "text/plain": [
       "<Figure size 432x288 with 1 Axes>"
      ]
     },
     "metadata": {
      "needs_background": "light"
     },
     "output_type": "display_data"
    }
   ],
   "source": [
    "import tensorflow as tf\n",
    "from tensorflow.examples.tutorials.mnist import input_data #tensorflow에서 제공하는 sample\n",
    "import random\n",
    "import matplotlib.pyplot as plt\n",
    "\n",
    "mnist = input_data.read_data_sets(\"MNIST_data/\", one_hot=True) #one_hot은 y값을 one hot으로 읽어오라는 기능\n",
    "\n",
    "nb_classes = 10 \n",
    "\n",
    "X = tf.placeholder(tf.float32, [None, 784]) #총 픽셀 개수인 784개로 placeholder 처리\n",
    "Y = tf.placeholder(tf.float32, [None, nb_classes]) #nb_classes로 10개로 들어감\n",
    "\n",
    "W = tf.Variable(tf.random_normal([784, nb_classes]))\n",
    "b = tf.Variable(tf.random_normal([nb_classes])) #나가는 값, 즉 y의 값과 동일한 값을 가짐\n",
    "\n",
    "#Hypothesis (여기에서는 Softmax 사용)\n",
    "hypothesis = tf.nn.softmax(tf.matmul(X, W) + b)\n",
    "\n",
    "cost = tf.reduce_mean(-tf.reduce_sum(Y * tf.log(hypothesis), axis=1)) #cost 정의하고\n",
    "optimizer = tf.train.GradientDescentOptimizer(learning_rate = 0.1).minimize(cost) #최소값을 찾으라는 명령 입력\n",
    "\n",
    "# Test model\n",
    "is_correct = tf.equal(tf.arg_max(hypothesis, 1), tf.arg_max(Y, 1))\n",
    "#\n",
    "accuracy = tf.reduce_mean(tf.cast(is_correct, tf.float32))\n",
    "\n",
    "# parameters\n",
    "# epoch : 전체 Training Data Set을 한 번 돈 것을 의미함\n",
    "# Batch size: 전체 Training Data Set을 자른 크기를 의미함\n",
    "\n",
    "training_epochs = 15 #전체 데이터셋을 15번 훑어라\n",
    "batch_size = 100 #한 배치에 100개 데이터를 넣어서 돌려라\n",
    "\n",
    "with tf.Session() as sess:\n",
    "    # Initialize TensorFlow variables\n",
    "    sess.run(tf.global_variables_initializer())\n",
    "    \n",
    "    #전체 데이터를 15번 훑을 건데\n",
    "    for epoch in range(training_epochs):\n",
    "        avg_cost = 0\n",
    "        total_batch = int(mnist.train.num_examples / batch_size) #Batch Size에 맞게 들어갈 데이터의 수를 고려해줌\n",
    "\n",
    "        for i in range(total_batch):\n",
    "            batch_xs, batch_ys = mnist.train.next_batch(batch_size) #100개씩 잘라서 던져주겠다는 뜻\n",
    "            c, _ = sess.run([cost, optimizer], feed_dict={\n",
    "                            X: batch_xs, Y: batch_ys})\n",
    "            avg_cost += c / total_batch\n",
    "\n",
    "        print('Epoch:', '%04d' % (epoch + 1),\n",
    "              'cost =', '{:.9f}'.format(avg_cost))\n",
    "\n",
    "    print(\"Learning finished\")\n",
    "\n",
    "    # Test the model using test sets\n",
    "    print(\"Accuracy: \", accuracy.eval(session=sess, feed_dict={\n",
    "          X: mnist.test.images, Y: mnist.test.labels}))\n",
    "\n",
    "    # Get one and predict\n",
    "    r = random.randint(0, mnist.test.num_examples - 1)\n",
    "    print(\"Label: \", sess.run(tf.argmax(mnist.test.labels[r:r + 1], 1)))\n",
    "    print(\"Prediction: \", sess.run(\n",
    "        tf.argmax(hypothesis, 1), feed_dict={X: mnist.test.images[r:r + 1]}))\n",
    "\n",
    "    plt.imshow(\n",
    "        mnist.test.images[r:r + 1].reshape(28, 28),\n",
    "        cmap='Greys',\n",
    "        interpolation='nearest')\n",
    "    plt.show()"
   ]
  },
  {
   "cell_type": "code",
   "execution_count": null,
   "metadata": {},
   "outputs": [],
   "source": []
  }
 ],
 "metadata": {
  "kernelspec": {
   "display_name": "Python [conda env:tensorflow]",
   "language": "python",
   "name": "conda-env-tensorflow-py"
  },
  "language_info": {
   "codemirror_mode": {
    "name": "ipython",
    "version": 3
   },
   "file_extension": ".py",
   "mimetype": "text/x-python",
   "name": "python",
   "nbconvert_exporter": "python",
   "pygments_lexer": "ipython3",
   "version": "3.6.6"
  }
 },
 "nbformat": 4,
 "nbformat_minor": 2
}
