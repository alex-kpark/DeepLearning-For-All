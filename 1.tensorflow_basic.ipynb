{
 "cells": [
  {
   "cell_type": "markdown",
   "metadata": {},
   "source": [
    "# 1.Concept of Tensorflow"
   ]
  },
  {
   "cell_type": "markdown",
   "metadata": {},
   "source": [
    "### Concept of Tensor"
   ]
  },
  {
   "cell_type": "code",
   "execution_count": 5,
   "metadata": {
    "collapsed": true
   },
   "outputs": [],
   "source": [
    "import tensorflow as tf"
   ]
  },
  {
   "cell_type": "code",
   "execution_count": 6,
   "metadata": {
    "collapsed": false
   },
   "outputs": [
    {
     "name": "stdout",
     "output_type": "stream",
     "text": [
      "('node1:', <tf.Tensor 'Const_2:0' shape=() dtype=float32>, 'node2:', <tf.Tensor 'Const_3:0' shape=() dtype=float32>)\n",
      "('node3:', <tf.Tensor 'Add_2:0' shape=() dtype=float32>)\n"
     ]
    }
   ],
   "source": [
    "#step01 : build the graph\n",
    "node1 = tf.constant(3.0, tf.float32)\n",
    "node2 = tf.constant(3.0, tf.float32)\n",
    "node3 = tf.add(node1, node2)\n",
    "#node3 = node1 + node2 is also available\n",
    "\n",
    "print(\"node1:\", node1, \"node2:\", node2)\n",
    "print(\"node3:\", node3)"
   ]
  },
  {
   "cell_type": "markdown",
   "metadata": {},
   "source": [
    "### Session"
   ]
  },
  {
   "cell_type": "code",
   "execution_count": null,
   "metadata": {
    "collapsed": true
   },
   "outputs": [],
   "source": [
    "#step02 : establish the session\n",
    "sess = tf.Session()"
   ]
  },
  {
   "cell_type": "code",
   "execution_count": null,
   "metadata": {
    "collapsed": true
   },
   "outputs": [],
   "source": [
    "#step03 : run the session, and return the result\n",
    "print('sess.run(node1, node2):', sess.run([node1, node2]))\n",
    "print('sess.run(node3):', sess.run(node3))"
   ]
  },
  {
   "cell_type": "markdown",
   "metadata": {},
   "source": [
    "### Placeholder"
   ]
  },
  {
   "cell_type": "code",
   "execution_count": 7,
   "metadata": {
    "collapsed": false
   },
   "outputs": [
    {
     "name": "stdout",
     "output_type": "stream",
     "text": [
      "7.5\n",
      "[ 3.  7.]\n"
     ]
    }
   ],
   "source": [
    "'''Placeholder : let the node to be filled at certain timing'''\n",
    "#build the graph\n",
    "a = tf.placeholder(tf.float32)\n",
    "b = tf.placeholder(tf.float32)\n",
    "adder_node = a + b\n",
    "\n",
    "#feed_dict: put value for placeholder (fill the empty status)\n",
    "print(sess.run(adder_node, feed_dict={a:3, b:4.5}))\n",
    "print(sess.run(adder_node, feed_dict={a:[1,3], b:[2,4]}))"
   ]
  },
  {
   "cell_type": "code",
   "execution_count": null,
   "metadata": {
    "collapsed": true
   },
   "outputs": [],
   "source": []
  },
  {
   "cell_type": "markdown",
   "metadata": {},
   "source": [
    "# 2. Hypothesis Test with Tensorflow\n",
    "\n",
    "Variable means trainable variable, that tensorflow can change the value\n",
    "through its learning process"
   ]
  },
  {
   "cell_type": "code",
   "execution_count": 17,
   "metadata": {
    "collapsed": false
   },
   "outputs": [],
   "source": [
    "#H(x)=Wx+b\n",
    "#X, Y data for training set\n",
    "x_train = [1,2,3]\n",
    "y_train = [1,2,3]"
   ]
  },
  {
   "cell_type": "markdown",
   "metadata": {},
   "source": [
    "### Defining variable and Hypothesis for the Test"
   ]
  },
  {
   "cell_type": "code",
   "execution_count": 18,
   "metadata": {
    "collapsed": false
   },
   "outputs": [],
   "source": [
    "#random_normal([1]) - 1 dimension value\n",
    "W = tf.Variable(tf.random_normal([1]), name='weight')\n",
    "b = tf.Variable(tf.random_normal([1]), name='bias')\n",
    "\n",
    "#hypothesis definition\n",
    "hypothesis =x_train*W + b\n",
    "\n",
    "#cost function definition\n",
    "#reduce_mean : average function\n",
    "cost = tf.reduce_mean(tf.square(hypothesis - y_train))\n"
   ]
  },
  {
   "cell_type": "markdown",
   "metadata": {},
   "source": [
    "### Minimization of the Cost "
   ]
  },
  {
   "cell_type": "code",
   "execution_count": 20,
   "metadata": {
    "collapsed": false
   },
   "outputs": [
    {
     "name": "stdout",
     "output_type": "stream",
     "text": [
      "(0, array([-0.37673366], dtype=float32), array([ 0.20952334], dtype=float32))\n",
      "(20, array([ 0.61119056], dtype=float32), array([ 0.60580385], dtype=float32))\n",
      "(40, array([ 0.71737182], dtype=float32), array([ 0.61600447], dtype=float32))\n",
      "(60, array([ 0.73902488], dtype=float32), array([ 0.59073681], dtype=float32))\n",
      "(80, array([ 0.75208676], dtype=float32), array([ 0.56332499], dtype=float32))\n",
      "(100, array([ 0.76381367], dtype=float32), array([ 0.53688413], dtype=float32))\n",
      "(120, array([ 0.77492082], dtype=float32), array([ 0.51165569], dtype=float32))\n",
      "(140, array([ 0.78549939], dtype=float32), array([ 0.48760992], dtype=float32))\n",
      "(160, array([ 0.79558021], dtype=float32), array([ 0.46469408], dtype=float32))\n",
      "(180, array([ 0.80518723], dtype=float32), array([ 0.44285524], dtype=float32))\n",
      "(200, array([ 0.81434268], dtype=float32), array([ 0.4220427], dtype=float32))\n",
      "(220, array([ 0.8230679], dtype=float32), array([ 0.40220824], dtype=float32))\n",
      "(240, array([ 0.83138305], dtype=float32), array([ 0.38330591], dtype=float32))\n",
      "(260, array([ 0.83930743], dtype=float32), array([ 0.36529195], dtype=float32))\n",
      "(280, array([ 0.84685928], dtype=float32), array([ 0.34812462], dtype=float32))\n",
      "(300, array([ 0.85405642], dtype=float32), array([ 0.33176404], dtype=float32))\n",
      "(320, array([ 0.8609153], dtype=float32), array([ 0.3161723], dtype=float32))\n",
      "(340, array([ 0.86745185], dtype=float32), array([ 0.30131334], dtype=float32))\n",
      "(360, array([ 0.87368101], dtype=float32), array([ 0.28715271], dtype=float32))\n",
      "(380, array([ 0.87961757], dtype=float32), array([ 0.27365762], dtype=float32))\n",
      "(400, array([ 0.88527507], dtype=float32), array([ 0.26079673], dtype=float32))\n",
      "(420, array([ 0.89066678], dtype=float32), array([ 0.24854018], dtype=float32))\n",
      "(440, array([ 0.895805], dtype=float32), array([ 0.23685974], dtype=float32))\n",
      "(460, array([ 0.90070182], dtype=float32), array([ 0.22572823], dtype=float32))\n",
      "(480, array([ 0.90536845], dtype=float32), array([ 0.21511981], dtype=float32))\n",
      "(500, array([ 0.90981579], dtype=float32), array([ 0.20500997], dtype=float32))\n",
      "(520, array([ 0.91405404], dtype=float32), array([ 0.19537529], dtype=float32))\n",
      "(540, array([ 0.91809314], dtype=float32), array([ 0.18619345], dtype=float32))\n",
      "(560, array([ 0.92194253], dtype=float32), array([ 0.17744306], dtype=float32))\n",
      "(580, array([ 0.92561096], dtype=float32), array([ 0.16910385], dtype=float32))\n",
      "(600, array([ 0.92910701], dtype=float32), array([ 0.16115656], dtype=float32))\n",
      "(620, array([ 0.93243867], dtype=float32), array([ 0.1535828], dtype=float32))\n",
      "(640, array([ 0.93561381], dtype=float32), array([ 0.14636497], dtype=float32))\n",
      "(660, array([ 0.93863982], dtype=float32), array([ 0.13948636], dtype=float32))\n",
      "(680, array([ 0.94152343], dtype=float32), array([ 0.13293095], dtype=float32))\n",
      "(700, array([ 0.94427156], dtype=float32), array([ 0.12668371], dtype=float32))\n",
      "(720, array([ 0.94689059], dtype=float32), array([ 0.12073008], dtype=float32))\n",
      "(740, array([ 0.94938648], dtype=float32), array([ 0.11505625], dtype=float32))\n",
      "(760, array([ 0.95176518], dtype=float32), array([ 0.10964903], dtype=float32))\n",
      "(780, array([ 0.954032], dtype=float32), array([ 0.10449595], dtype=float32))\n",
      "(800, array([ 0.95619237], dtype=float32), array([ 0.09958503], dtype=float32))\n",
      "(820, array([ 0.95825112], dtype=float32), array([ 0.09490491], dtype=float32))\n",
      "(840, array([ 0.96021324], dtype=float32), array([ 0.09044468], dtype=float32))\n",
      "(860, array([ 0.9620831], dtype=float32), array([ 0.0861941], dtype=float32))\n",
      "(880, array([ 0.96386504], dtype=float32), array([ 0.08214327], dtype=float32))\n",
      "(900, array([ 0.96556324], dtype=float32), array([ 0.07828284], dtype=float32))\n",
      "(920, array([ 0.96718168], dtype=float32), array([ 0.07460383], dtype=float32))\n",
      "(940, array([ 0.96872401], dtype=float32), array([ 0.07109772], dtype=float32))\n",
      "(960, array([ 0.97019392], dtype=float32), array([ 0.06775641], dtype=float32))\n",
      "(980, array([ 0.97159457], dtype=float32), array([ 0.0645721], dtype=float32))\n",
      "(1000, array([ 0.97292954], dtype=float32), array([ 0.06153745], dtype=float32))\n",
      "(1020, array([ 0.9742018], dtype=float32), array([ 0.0586454], dtype=float32))\n",
      "(1040, array([ 0.97541422], dtype=float32), array([ 0.05588927], dtype=float32))\n",
      "(1060, array([ 0.97656965], dtype=float32), array([ 0.05326268], dtype=float32))\n",
      "(1080, array([ 0.97767079], dtype=float32), array([ 0.05075954], dtype=float32))\n",
      "(1100, array([ 0.97872013], dtype=float32), array([ 0.04837405], dtype=float32))\n",
      "(1120, array([ 0.97972029], dtype=float32), array([ 0.04610066], dtype=float32))\n",
      "(1140, array([ 0.98067331], dtype=float32), array([ 0.04393408], dtype=float32))\n",
      "(1160, array([ 0.98158157], dtype=float32), array([ 0.04186935], dtype=float32))\n",
      "(1180, array([ 0.98244721], dtype=float32), array([ 0.03990166], dtype=float32))\n",
      "(1200, array([ 0.98327214], dtype=float32), array([ 0.03802643], dtype=float32))\n",
      "(1220, array([ 0.98405826], dtype=float32), array([ 0.03623931], dtype=float32))\n",
      "(1240, array([ 0.98480749], dtype=float32), array([ 0.03453621], dtype=float32))\n",
      "(1260, array([ 0.98552144], dtype=float32), array([ 0.03291313], dtype=float32))\n",
      "(1280, array([ 0.98620188], dtype=float32), array([ 0.03136636], dtype=float32))\n",
      "(1300, array([ 0.98685038], dtype=float32), array([ 0.02989225], dtype=float32))\n",
      "(1320, array([ 0.9874683], dtype=float32), array([ 0.02848744], dtype=float32))\n",
      "(1340, array([ 0.98805726], dtype=float32), array([ 0.02714866], dtype=float32))\n",
      "(1360, array([ 0.98861849], dtype=float32), array([ 0.02587277], dtype=float32))\n",
      "(1380, array([ 0.98915344], dtype=float32), array([ 0.02465685], dtype=float32))\n",
      "(1400, array([ 0.98966306], dtype=float32), array([ 0.02349812], dtype=float32))\n",
      "(1420, array([ 0.99014884], dtype=float32), array([ 0.02239382], dtype=float32))\n",
      "(1440, array([ 0.99061185], dtype=float32), array([ 0.02134141], dtype=float32))\n",
      "(1460, array([ 0.9910531], dtype=float32), array([ 0.02033843], dtype=float32))\n",
      "(1480, array([ 0.99147362], dtype=float32), array([ 0.01938258], dtype=float32))\n",
      "(1500, array([ 0.99187428], dtype=float32), array([ 0.01847164], dtype=float32))\n",
      "(1520, array([ 0.99225616], dtype=float32), array([ 0.01760355], dtype=float32))\n",
      "(1540, array([ 0.99262011], dtype=float32), array([ 0.01677624], dtype=float32))\n",
      "(1560, array([ 0.99296689], dtype=float32), array([ 0.01598783], dtype=float32))\n",
      "(1580, array([ 0.99329752], dtype=float32), array([ 0.01523645], dtype=float32))\n",
      "(1600, array([ 0.99361247], dtype=float32), array([ 0.01452038], dtype=float32))\n",
      "(1620, array([ 0.9939127], dtype=float32), array([ 0.01383796], dtype=float32))\n",
      "(1640, array([ 0.99419874], dtype=float32), array([ 0.01318761], dtype=float32))\n",
      "(1660, array([ 0.99447143], dtype=float32), array([ 0.01256785], dtype=float32))\n",
      "(1680, array([ 0.99473125], dtype=float32), array([ 0.01197719], dtype=float32))\n",
      "(1700, array([ 0.99497885], dtype=float32), array([ 0.01141431], dtype=float32))\n",
      "(1720, array([ 0.99521482], dtype=float32), array([ 0.01087786], dtype=float32))\n",
      "(1740, array([ 0.99543971], dtype=float32), array([ 0.01036661], dtype=float32))\n",
      "(1760, array([ 0.99565405], dtype=float32), array([ 0.00987942], dtype=float32))\n",
      "(1780, array([ 0.99585825], dtype=float32), array([ 0.00941512], dtype=float32))\n",
      "(1800, array([ 0.99605292], dtype=float32), array([ 0.00897266], dtype=float32))\n",
      "(1820, array([ 0.99623841], dtype=float32), array([ 0.00855097], dtype=float32))\n",
      "(1840, array([ 0.9964152], dtype=float32), array([ 0.00814911], dtype=float32))\n",
      "(1860, array([ 0.99658364], dtype=float32), array([ 0.00776614], dtype=float32))\n",
      "(1880, array([ 0.99674422], dtype=float32), array([ 0.00740116], dtype=float32))\n",
      "(1900, array([ 0.99689722], dtype=float32), array([ 0.00705333], dtype=float32))\n",
      "(1920, array([ 0.99704307], dtype=float32), array([ 0.00672187], dtype=float32))\n",
      "(1940, array([ 0.99718201], dtype=float32), array([ 0.00640595], dtype=float32))\n",
      "(1960, array([ 0.99731445], dtype=float32), array([ 0.0061049], dtype=float32))\n",
      "(1980, array([ 0.9974407], dtype=float32), array([ 0.00581801], dtype=float32))\n",
      "(2000, array([ 0.99756098], dtype=float32), array([ 0.00554457], dtype=float32))\n"
     ]
    },
    {
     "data": {
      "text/plain": [
       "'\\nWithout defining x_train, y_train,\\n\\nX = tf.placeholder(tf.float32)\\nY = tf.placeholder(tf.float32)\\n...\\nfor step in range(2001):\\n    cost_val, W_val, b_val, _ =         sess.run([cost, W, b, train]),\\n            feed_dict={X:[1,2,3], Y:[1,2,3]})\\n    \\n    if step % 20 = 0:\\n        print(step, cost_val, W_val, b_val)\\n'"
      ]
     },
     "execution_count": 20,
     "metadata": {},
     "output_type": "execute_result"
    }
   ],
   "source": [
    "#GradientDescentOptimizer :\n",
    "#learning_rate : \n",
    "optimizer = tf.train.GradientDescentOptimizer(learning_rate=0.01)\n",
    "train = optimizer.minimize(cost)\n",
    "\n",
    "sess = tf.Session()\n",
    "#must initialize the variable with global_variables_initializer()\n",
    "sess.run(tf.global_variables_initializer())\n",
    "\n",
    "#Fitting the line\n",
    "for step in range(2001):\n",
    "    sess.run(train)\n",
    "    if step % 20 == 0:\n",
    "        print(step, sess.run(W), sess.run(b))\n",
    "\n",
    "'''\n",
    "Without defining x_train, y_train,\n",
    "\n",
    "X = tf.placeholder(tf.float32)\n",
    "Y = tf.placeholder(tf.float32)\n",
    "...\n",
    "for step in range(2001):\n",
    "    cost_val, W_val, b_val, _ = \\\n",
    "        sess.run([cost, W, b, train]),\n",
    "            feed_dict={X:[1,2,3], Y:[1,2,3]})\n",
    "    \n",
    "    if step % 20 = 0:\n",
    "        print(step, cost_val, W_val, b_val)\n",
    "'''"
   ]
  },
  {
   "cell_type": "markdown",
   "metadata": {},
   "source": [
    "# 3. Process of Minimizing the Cost: Gradient-Descent"
   ]
  },
  {
   "cell_type": "code",
   "execution_count": 22,
   "metadata": {
    "collapsed": false
   },
   "outputs": [
    {
     "data": {
      "image/png": "[encoded data removed]",
      "text/plain": [
       "<matplotlib.figure.Figure at 0x11d22e0d0>"
      ]
     },
     "metadata": {},
     "output_type": "display_data"
    }
   ],
   "source": [
    "import tensorflow as tf\n",
    "import matplotlib.pyplot as plt\n",
    "\n",
    "X = [1,2,3]\n",
    "Y = [1,2,3]\n",
    "\n",
    "W = tf.placeholder(tf.float32)\n",
    "hypothesis = X * W\n",
    "\n",
    "cost = tf.reduce_mean(tf.square(hypothesis-Y))\n",
    "\n",
    "sess = tf.Session()\n",
    "sess.run(tf.global_variables_initializer())\n",
    "\n",
    "W_val = []\n",
    "cost_val = []\n",
    "\n",
    "for i in range(-30, 50):\n",
    "    feed_W = i * 0.1\n",
    "    current_cost, current_W = sess.run([cost, W], feed_dict={W: feed_W})\n",
    "    W_val.append(current_W)\n",
    "    cost_val.append(current_cost)\n",
    "\n",
    "plt.plot(W_val, cost_val)\n",
    "plt.show()"
   ]
  },
  {
   "cell_type": "code",
   "execution_count": null,
   "metadata": {
    "collapsed": true
   },
   "outputs": [],
   "source": []
  },
  {
   "cell_type": "code",
   "execution_count": null,
   "metadata": {
    "collapsed": true
   },
   "outputs": [],
   "source": []
  }
 ],
 "metadata": {
  "kernelspec": {
   "display_name": "Python 2",
   "language": "python",
   "name": "python2"
  },
  "language_info": {
   "codemirror_mode": {
    "name": "ipython",
    "version": 2
   },
   "file_extension": ".py",
   "mimetype": "text/x-python",
   "name": "python",
   "nbconvert_exporter": "python",
   "pygments_lexer": "ipython2",
   "version": "2.7.13"
  }
 },
 "nbformat": 4,
 "nbformat_minor": 2
}
